{
 "cells": [
  {
   "cell_type": "code",
   "execution_count": 13,
   "metadata": {},
   "outputs": [
    {
     "name": "stdout",
     "output_type": "stream",
     "text": [
      "sing sing.v.02\n",
      "show entertainment.n.01\n",
      "listen perceive.v.01\n",
      "go shift.n.03\n",
      "do party.n.04\n",
      "say opportunity.n.01\n",
      "speak communicate.v.02\n",
      "fall season.n.02\n",
      "see seat.n.05\n",
      "start beginning.n.01\n",
      "forest vegetation.n.01\n",
      "cuckoo fool.n.01\n",
      "voice sound.n.01\n",
      "magician performer.n.01\n",
      "time case.n.01\n",
      "drop sphere.n.05\n",
      "talk conversation.n.01\n",
      "people group.n.01\n",
      "sky atmosphere.n.05\n",
      "king sovereign.n.01\n"
     ]
    }
   ],
   "source": [
    "from nltk.corpus import wordnet as wn\n",
    "with open(\"text-eng.txt\", \"r\") as f:\n",
    "    words = f.read().split()\n",
    "\n",
    "for word in words:\n",
    "    synsets = wn.synsets(word)\n",
    "    # print(f\"\\\\item {word}\")\n",
    "    print(word, synsets[0].hypernyms()[0].name())"
   ]
  }
 ],
 "metadata": {
  "kernelspec": {
   "display_name": ".venv",
   "language": "python",
   "name": "python3"
  },
  "language_info": {
   "codemirror_mode": {
    "name": "ipython",
    "version": 3
   },
   "file_extension": ".py",
   "mimetype": "text/x-python",
   "name": "python",
   "nbconvert_exporter": "python",
   "pygments_lexer": "ipython3",
   "version": "3.13.2"
  }
 },
 "nbformat": 4,
 "nbformat_minor": 2
}
