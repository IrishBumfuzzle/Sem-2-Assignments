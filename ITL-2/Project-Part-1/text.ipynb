{
 "cells": [
  {
   "cell_type": "markdown",
   "metadata": {},
   "source": [
    "This downloads the hindi paradigms for lttoolbox and compiles them. You need lt-comp for this"
   ]
  },
  {
   "cell_type": "code",
   "execution_count": null,
   "metadata": {},
   "outputs": [
    {
     "name": "stdout",
     "output_type": "stream",
     "text": [
      "contractions@standard 450 521\n",
      "final@inconditional 124 3671\n",
      "main@standard 70474 135663\n"
     ]
    },
    {
     "data": {
      "text/plain": [
       "0"
      ]
     },
     "execution_count": 2,
     "metadata": {},
     "output_type": "execute_result"
    }
   ],
   "source": [
    "import os\n",
    "import urllib.request\n",
    "\n",
    "urllib.request.urlretrieve(\"https://raw.githubusercontent.com/apertium/apertium-hin/refs/heads/master/apertium-hin.hin.dix\", \"apertium-hin.hin.dix\")\n",
    "os.system(\"lt-comp lr apertium-hin.hin.dix analyser.bin\")"
   ]
  },
  {
   "cell_type": "markdown",
   "metadata": {},
   "source": [
    "Put your text in the text variable. You'll need lt-proc for this one. It will identify all nouns and verbs from your text."
   ]
  },
  {
   "cell_type": "code",
   "execution_count": null,
   "metadata": {},
   "outputs": [],
   "source": [
    "import re\n",
    "import os\n",
    "\n",
    "with open(\"text.txt\", \"r\") as f:\n",
    "    text = f.read()\n",
    "text = text.split()\n",
    "\n",
    "text_lemmatized = []\n",
    "cat = re.compile(r\"<(.*?)>\")\n",
    "lemma = re.compile(r\"/(.*?)<\")\n",
    "\n",
    "for word in text:\n",
    "    word_lemma = os.popen(f\"echo {word} | lt-proc analyser.bin\").read()\n",
    "    word_cat = cat.search(word_lemma)\n",
    "    if not word_cat:\n",
    "        continue\n",
    "    word_cat = word_cat.group(1)\n",
    "    if word_cat == \"n\" or word_cat == \"vblex\" or word_cat == \"vbser\" and word_lemma not in text_lemmatized:\n",
    "        word_lemma = lemma.search(word_lemma).group(1)\n",
    "        text_lemmatized.append(word_lemma)\n",
    "\n",
    "text_lemmatized = list(dict.fromkeys(text_lemmatized))\n",
    "\n",
    "print(\"Words identified: \" + \" \".join(text_lemmatized))\n",
    "        "
   ]
  },
  {
   "cell_type": "markdown",
   "metadata": {},
   "source": [
    "Put the max length of the various word properties you need, so 3 means that you need 3 words each for synonmys, hypernyms etc"
   ]
  },
  {
   "cell_type": "code",
   "execution_count": null,
   "metadata": {},
   "outputs": [],
   "source": [
    "from bs4 import BeautifulSoup\n",
    "import requests\n",
    "import json\n",
    "\n",
    "MAX_LENGTH_OF_PROPS = 3\n",
    "\n",
    "syn_ids = {}\n",
    "for word in text_lemmatized:\n",
    "    soup = BeautifulSoup(requests.get(f\"https://www.cfilt.iitb.ac.in/indowordnet/wordnet?langno=0&query={word}\").text, \"html.parser\")\n",
    "    try:\n",
    "        syn_id = soup.find(id=\"s_id\").text\n",
    "        syn_ids.update({syn_id: word})\n",
    "    except:\n",
    "        print(f\"Word {word} not found in Indowordnet\")\n"
   ]
  },
  {
   "cell_type": "markdown",
   "metadata": {},
   "source": [
    "# Synonyms"
   ]
  },
  {
   "cell_type": "code",
   "execution_count": null,
   "metadata": {},
   "outputs": [],
   "source": [
    "max_len = MAX_LENGTH_OF_PROPS\n",
    "for syn_id in syn_ids:\n",
    "    synset_url = f\"https://www.cfilt.iitb.ac.in/indowordnet/fetch_synset?synset_id={syn_id}&langno=0&pos=noun&start=-25\"\n",
    "    synset_dict = requests.get(synset_url).json()\n",
    "    if \"error\" in synset_dict:\n",
    "        print(\"No synonyms found\")\n",
    "    else:\n",
    "        synset_dict = json.loads(synset_dict)\n",
    "        synonyms = synset_dict[\"synonyms\"][1:max_len+1] # Skipping the first one because it tends to be the same word\n",
    "        print(f\"Synonmys of {syn_ids[syn_id]}: \" + \", \".join(synonyms))"
   ]
  },
  {
   "cell_type": "markdown",
   "metadata": {},
   "source": [
    "# Hypernyms"
   ]
  },
  {
   "cell_type": "code",
   "execution_count": null,
   "metadata": {},
   "outputs": [],
   "source": [
    "max_len = MAX_LENGTH_OF_PROPS\n",
    "for syn_id in syn_ids:\n",
    "    hypernymy_url = f\"https://www.cfilt.iitb.ac.in/indowordnet/fetch_hypernymy?synset_id={syn_id}&langno=0&pos=noun&start=-25\"\n",
    "    hypernymy_dict = requests.get(hypernymy_url).json()\n",
    "\n",
    "    if \"error\" in hypernymy_dict:\n",
    "        print(\"No hypernyms found for \" + syn_ids[syn_id])\n",
    "    else:\n",
    "        hypernymy_dict = json.loads(hypernymy_dict)\n",
    "        hypernyms = hypernymy_dict[\"0\"][1][:max_len]\n",
    "        print(f\"Hypernyms of {syn_ids[syn_id]}: \" + \" \".join(hypernyms))"
   ]
  },
  {
   "cell_type": "markdown",
   "metadata": {},
   "source": [
    "# Hyponyms"
   ]
  },
  {
   "cell_type": "code",
   "execution_count": null,
   "metadata": {},
   "outputs": [],
   "source": [
    "max_len = MAX_LENGTH_OF_PROPS\n",
    "for syn_id in syn_ids:\n",
    "    hyponymy_url = f\"https://www.cfilt.iitb.ac.in/indowordnet/fetch_hyponymy?synset_id={syn_id}&langno=0&pos=noun&start=-25\"\n",
    "    hyponymy_dict = requests.get(hyponymy_url).json()\n",
    "    if \"error\" in hyponymy_dict:\n",
    "        print(\"No hyponyms found for \" + syn_ids[syn_id])\n",
    "    else:\n",
    "        hyponymy_dict = json.loads(hyponymy_dict)\n",
    "        hyponyms = hyponymy_dict[\"0\"][1][:max_len]\n",
    "        print(f\"Hyponyms of {syn_ids[syn_id]}: \" + \" \".join(hyponyms))"
   ]
  },
  {
   "cell_type": "markdown",
   "metadata": {},
   "source": [
    "# Meronyms"
   ]
  },
  {
   "cell_type": "code",
   "execution_count": null,
   "metadata": {},
   "outputs": [],
   "source": [
    "max_len = MAX_LENGTH_OF_PROPS\n",
    "for syn_id in syn_ids:    \n",
    "    meronymy_url = f\"https://www.cfilt.iitb.ac.in/indowordnet/fetch_meronymy?synset_id={syn_id}&langno=0&pos=noun&start=-25\"\n",
    "    meronymy_dict = requests.get(meronymy_url).json()\n",
    "    if \"error\" in meronymy_dict:\n",
    "        print(\"No meronyms found for \" + syn_ids[syn_id])\n",
    "    else:\n",
    "        meronymy_dict = json.loads(meronymy_dict)\n",
    "        meronyms = meronymy_dict[\"0\"][1][:max_len]\n",
    "        print(f\"Meronyms of {syn_ids[syn_id]}: \" + \" \".join(meronyms))"
   ]
  }
 ],
 "metadata": {
  "kernelspec": {
   "display_name": ".venv",
   "language": "python",
   "name": "python3"
  },
  "language_info": {
   "codemirror_mode": {
    "name": "ipython",
    "version": 3
   },
   "file_extension": ".py",
   "mimetype": "text/x-python",
   "name": "python",
   "nbconvert_exporter": "python",
   "pygments_lexer": "ipython3",
   "version": "3.13.2"
  }
 },
 "nbformat": 4,
 "nbformat_minor": 2
}
